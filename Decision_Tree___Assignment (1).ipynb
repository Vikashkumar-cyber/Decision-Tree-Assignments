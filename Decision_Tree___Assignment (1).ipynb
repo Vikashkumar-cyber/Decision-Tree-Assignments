{
  "nbformat": 4,
  "nbformat_minor": 0,
  "metadata": {
    "colab": {
      "provenance": []
    },
    "kernelspec": {
      "name": "python3",
      "display_name": "Python 3"
    },
    "language_info": {
      "name": "python"
    }
  },
  "cells": [
    {
      "cell_type": "markdown",
      "source": [],
      "metadata": {
        "id": "TjHU1aCnq0Pm"
      }
    },
    {
      "cell_type": "markdown",
      "source": [
        "Question 1: What is a Decision Tree, and how does it work in the context of\n",
        "classification?\n",
        "\n",
        "\n",
        "-->A decision tree is a supervised machine learning algorithm that uses a flowchart-like, tree structure to model decisions and their possible consequences. In the context of classification, a decision tree serves as a predictive model that maps observations about a dataset to conclusions about the target class. It is a powerful tool known for its interpretability and ability to handle both categorical and numerical data.\n",
        "How a decision tree works for classification\n",
        "The core of a decision tree classifier is a process called recursive partitioning. The algorithm breaks down a dataset into smaller, more homogenous subsets based on the features that provide the most information. This process continues until the subsets are uniform enough to assign a class label.\n",
        "Here is a step-by-step breakdown of the process:\n",
        "Starting at the root node: The entire training dataset is represented by the root node at the top of the tree.\n",
        "Selecting the best split: The algorithm evaluates all available features to find the one that best divides the data into the purest, or most homogenous, groups. \"Purity\" refers to how uniform the samples are within a subset regarding their class label.\n",
        "Impurity measures: To determine the \"best\" split, the algorithm uses metrics such as Gini impurity or entropy.\n",
        "Gini impurity: Measures how often a randomly chosen element from a set would be incorrectly labeled. A Gini impurity of 0 indicates perfect purity.\n",
        "Entropy: Measures the amount of uncertainty or randomness. A lower entropy value indicates a purer subset.\n",
        "Information gain: The algorithm chooses the feature that results in the highest information gain, which is the largest reduction in entropy after a split.\n",
        "Recursive splitting: The process repeats for each newly created child node. At each node, the algorithm again finds the best feature to split the subset of data it contains. This \"divide and conquer\" strategy is repeated until a stopping condition is met.\n",
        "Reaching the leaf nodes: The process stops when a leaf node is created. A leaf node is a terminal node that does not split further. This happens when all or most of the data points in a subset belong to the same class, or if a predefined maximum tree depth is reached. The leaf node is then assigned the class label of the majority of its samples.\n",
        "Making predictions: To classify a new, unlabeled data point, the tree begins at the root. The new data point follows the path determined by the decisions at each internal node until it reaches a leaf node. The class label of that leaf node is the predicted classification for the new data point.\n",
        "Simple classification example\n",
        "Imagine a tree that predicts if a person will play tennis based on the weather.\n",
        "Root node: The first split is based on the outlook, as it provides the most information gain.\n",
        "One branch for \"Sunny\"\n",
        "One branch for \"Overcast\"\n",
        "One branch for \"Rainy\"\n",
        "Branches and internal nodes:\n",
        "The \"Overcast\" branch immediately leads to a final decision (\"Play\").\n",
        "The \"Sunny\" branch requires further questioning. It leads to a new internal node based on humidity (e.g., \"Is humidity high or normal?\").\n",
        "Leaf nodes:\n",
        "A \"Sunny\" day with \"High Humidity\" leads to \"Don't Play.\"\n",
        "A \"Sunny\" day with \"Normal Humidity\" leads to \"Play.\"\n",
        "By following this flowchart-like structure, the decision tree provides an easy-to-understand set of rules for making a classification.\n",
        "\n",
        "\n",
        "\n"
      ],
      "metadata": {
        "id": "Q_RVVlQ3gPBY"
      }
    },
    {
      "cell_type": "markdown",
      "metadata": {
        "id": "e6344bcc"
      },
      "source": [
        "Question 2: Explain the concepts of Gini Impurity and Entropy as impurity measures.\n",
        "How do they impact the splits in a Decision Tree?\n",
        "\n",
        "--> Gini Impurity and Entropy are two common metrics used in decision tree algorithms to measure the \"purity\" of a node, which essentially means how mixed the classes are within that node. The goal of the decision tree algorithm is to find splits that minimize impurity in the resulting child nodes.\n",
        "\n",
        "**Gini Impurity:**\n",
        "\n",
        "*   **Concept:** Gini impurity measures the probability of incorrectly classifying a randomly chosen element in a dataset if it were labeled according to the distribution of classes in that subset. A Gini impurity of 0 indicates perfect purity (all elements belong to the same class). A Gini impurity of 1 would indicate a perfectly mixed node (an equal distribution of all classes, though in practice, with two classes, the maximum Gini is 0.5).\n",
        "*   **Formula:** For a node containing data points from $k$ classes, the Gini impurity is calculated as:\n",
        "    $$Gini = 1 - \\sum_{i=1}^{k} (p_i)^2$$\n",
        "    where $p_i$ is the proportion of data points belonging to class $i$ in the node.\n",
        "*   **Impact on Splits:** When deciding on a split, the algorithm calculates the Gini impurity for each potential child node resulting from the split. The split that results in the lowest weighted average Gini impurity across the child nodes is chosen. This is because a lower Gini impurity indicates a more homogenous distribution of classes after the split.\n",
        "\n",
        "**Entropy:**\n",
        "\n",
        "*   **Concept:** Entropy measures the amount of uncertainty or randomness in a set of data. In the context of decision trees, it quantifies the disorder or impurity of a node. A lower entropy value indicates a purer subset. An entropy of 0 means the node is perfectly pure (all data points belong to the same class). The maximum entropy occurs when the classes are perfectly mixed.\n",
        "*   **Formula:** For a node containing data points from $k$ classes, the entropy is calculated as:\n",
        "    $$Entropy = -\\sum_{i=1}^{k} p_i \\log_2(p_i)$$\n",
        "    where $p_i$ is the proportion of data points belonging to class $i$ in the node.\n",
        "*   **Impact on Splits:** Similar to Gini impurity, the decision tree algorithm uses entropy to evaluate potential splits. The split that results in the greatest reduction in entropy (known as Information Gain) is preferred. Information Gain is calculated as the entropy of the parent node minus the weighted average entropy of the child nodes. A higher information gain means the split is more effective at separating the classes.\n",
        "\n",
        "**How they impact the splits:**\n",
        "\n",
        "Both Gini impurity and Entropy serve the same fundamental purpose: to guide the decision tree algorithm in finding the best features and split points to create nodes that are as pure as possible. The algorithm iteratively selects the split that maximizes the reduction in impurity (either by minimizing Gini impurity or maximizing Information Gain) at each step. This recursive process of finding the best splits based on impurity measures is what builds the tree structure and allows it to effectively classify new data points. While the calculations differ, both metrics aim to achieve the same outcome: creating a tree with nodes that are increasingly dominated by a single class as you move down from the root to the leaves. The choice between Gini impurity and Entropy often has a minor impact on the final tree structure and performance in practice."
      ]
    },
    {
      "cell_type": "markdown",
      "metadata": {
        "id": "59519485"
      },
      "source": [
        "Question 3: What is the difference between Pre-Pruning and Post-Pruning in Decision\n",
        "Trees? Give one practical advantage of using each.\n",
        "\n",
        "--> Pruning is a technique used to reduce the size of decision trees by removing sections of the tree that are non-critical or redundant. This is done to prevent overfitting, which occurs when a model learns the training data too well and performs poorly on new, unseen data. There are two main types of pruning: pre-pruning and post-pruning.\n",
        "\n",
        "**Pre-Pruning (Early Stopping):**\n",
        "\n",
        "*   **Concept:** Pre-pruning stops the tree construction process early, before it has perfectly classified the training data. It sets criteria or constraints during the tree building phase to limit its growth.\n",
        "*   **How it works:** The algorithm stops splitting a node if certain conditions are met. Common pre-pruning criteria include:\n",
        "    *   **Maximum depth:** Limiting the maximum number of levels in the tree.\n",
        "    *   **Minimum samples per split:** Requiring a minimum number of samples in a node before a split is considered.\n",
        "    *   **Minimum samples per leaf:** Requiring a minimum number of samples in a leaf node.\n",
        "    *   **Maximum number of leaf nodes:** Limiting the total number of leaf nodes.\n",
        "    *   **Maximum features to consider for a split:** Limiting the number of features evaluated at each split.\n",
        "    *   **Impurity threshold:** Stopping if the impurity of a node is below a certain threshold.\n",
        "*   **Practical Advantage:** **Efficiency.** Pre-pruning is generally faster than post-pruning because it avoids building the full tree. This can be particularly beneficial for large datasets or when computational resources are limited.\n",
        "\n",
        "**Post-Pruning (Backward Pruning):**\n",
        "\n",
        "*   **Concept:** Post-pruning involves building the full decision tree first (potentially allowing it to overfit the training data) and then removing branches or nodes from the fully grown tree.\n",
        "*   **How it works:** After the tree is built, it is traversed from the leaves upwards. For each non-leaf node, the algorithm considers removing the subtree rooted at that node. The subtree is removed if the resulting pruned tree performs better on a validation dataset (or if the removal doesn't significantly decrease performance). This process is often guided by metrics like accuracy or error rate on the validation set.\n",
        "*   **Practical Advantage:** **Potentially better performance.** Post-pruning can sometimes lead to better performance on unseen data because it allows the tree to explore all possible splits initially before deciding which ones to remove. This can help in identifying complex relationships in the data that might be missed by early stopping in pre-pruning.\n",
        "\n",
        "**Key Differences Summarized:**\n",
        "\n",
        "| Feature         | Pre-Pruning (Early Stopping)                  | Post-Pruning (Backward Pruning)                |\n",
        "| :-------------- | :-------------------------------------------- | :--------------------------------------------- |\n",
        "| **When applied** | During tree construction                      | After tree construction                        |\n",
        "| **Process**     | Stops growth based on criteria               | Removes branches from a fully grown tree       |\n",
        "| **Complexity**  | Less complex                                  | More complex (requires a validation set)       |\n",
        "| **Speed**       | Faster                                        | Slower                                         |\n",
        "| **Risk**        | May stop too early (underfitting)            | May build an overly complex tree initially     |\n",
        "| **Outcome**     | Simpler tree                                  | Potentially more complex tree initially, then simplified |\n",
        "\n",
        "In practice, the choice between pre-pruning and post-pruning often depends on the specific dataset, the desired trade-off between model complexity and performance, and computational resources. Some algorithms like C4.5 use post-pruning, while others like CART can use both."
      ]
    },
    {
      "cell_type": "markdown",
      "source": [
        "Question 4: What is Information Gain in Decision Trees, and why is it important for\n",
        "choosing the best split?\n",
        "\n",
        "--> Information Gain measures the reduction in entropy (uncertainty) of the target variable after a data split based on a feature, and is important because the feature that yields the highest Information Gain at each step is chosen to split the dataset. This strategy maximizes the purity of the resulting child nodes, leading to a decision tree that effectively classifies or predicts, allowing for more efficient identification of the target variable.\n",
        "What is Information Gain?\n",
        "Entropy: A measure of impurity or uncertainty in a dataset. A perfectly pure node (all samples belonging to one class) has an entropy of 0, while a perfectly mixed node has the highest entropy.\n",
        "Information Gain (IG): The difference in entropy between a parent node and its child nodes after a split. It quantifies how much the uncertainty is reduced by splitting the data using a particular feature.\n",
        "Formula: Information Gain can be calculated as: IG(S, A) = Entropy(S) - Σ(|Sv|/|S|) * Entropy(Sv).\n",
        "S is the dataset (or parent node).\n",
        "A is the attribute or feature being evaluated.\n",
        "Sv is the subset of S where attribute A has a specific value v.\n",
        "Why is it Important for Choosing the Best Split?\n",
        "Maximize Purity: Information Gain selects the attribute that provides the most significant reduction in uncertainty, leading to child nodes that are as pure (homogenous) as possible in terms of class labels.\n",
        "Optimal Decision Tree Structure: By selecting the most informative features at each level, Information Gain helps build a decision tree that effectively categorizes data and makes accurate predictions.\n",
        "Efficiency: A tree built using high Information Gain splits is efficient in its decision-making, as it quickly isolates samples into their respective classes.\n",
        "Attribute Selection: It serves as the criterion for attribute selection, guiding the decision tree algorithm (like ID3) to choose the best feature to split on at every node."
      ],
      "metadata": {
        "id": "ItAxY1QMph3Z"
      }
    },
    {
      "cell_type": "markdown",
      "source": [
        "Question 5: What are some common real-world applications of Decision Trees, and\n",
        "what are their main advantages and limitations?\n",
        "\n",
        "--> Decision trees are used in healthcare for diagnosis, in finance for fraud detection and loan approval, and in marketing for customer segmentation and churn prediction. Key advantages include their intuitive, visual structure, ease of interpretation, and minimal data preprocessing requirements. However, their main limitations are a tendency to overfit training data, instability to small data changes, bias towards features with more values, and potential inaccuracy compared to more complex models on intricate datasets.\n",
        "Applications\n",
        "Healthcare: Assisting in disease diagnosis and determining treatment plans by analyzing symptoms and clinical data.\n",
        "Finance: Detecting fraudulent transactions, assessing credit risk, and determining loan eligibility based on customer data.\n",
        "Marketing: Segmenting customers for targeted campaigns, predicting customer behavior (e.g., churn), and personalizing strategies.\n",
        "Business: Strategic planning, resource allocation, and identifying factors contributing to business growth and cost-effectiveness.\n",
        "Education: Predicting student outcomes (e.g., pass/fail) to help identify at-risk students and provide targeted support.\n",
        "Advantages\n",
        "Easy to Understand: Their logical, tree-like structure is intuitive and can be easily visualized, making them easy to interpret for both experts and non-experts.\n",
        "Little Data Preparation: They generally require less data normalization and fewer pre-processing steps compared to other algorithms.\n",
        "Handles Mixed Data Types: Decision trees can handle both numerical and categorical data, offering more flexibility than models specialized for one type of data.\n",
        "Transparent Model: They are considered \"white box\" models, meaning the decision-making process is easily explained through Boolean logic, unlike complex \"black box\" models.\n",
        "Limitations\n",
        "Prone to Overfitting: Trees can become too deep and memorize the training data rather than learning underlying patterns, leading to poor performance on new, unseen data.\n",
        "Instability: Small changes in the training data can result in a significantly different tree structure, making them unstable and less robust.\n",
        "Bias: Features with more unique values can unduly influence splits, leading to biased models. They can also be biased by unbalanced classes.\n",
        "Accuracy: While simple and interpretable, decision trees may not achieve the same level of accuracy as more complex models like Random Forests or Neural Networks on complex datasets."
      ],
      "metadata": {
        "id": "k9jyZDxCpzkI"
      }
    },
    {
      "cell_type": "markdown",
      "source": [
        "Dataset Info:\n",
        "● Iris Dataset for classification tasks (sklearn.datasets.load_iris() or\n",
        "provided CSV).\n",
        "● Boston Housing Dataset for regression tasks\n",
        "(sklearn.datasets.load_boston() or provided CSV).\n",
        "Question 6: Write a Python program to:\n",
        "● Load the Iris Dataset\n",
        "● Train a Decision Tree Classifier using the Gini criterion\n",
        "● Print the model’s accuracy and feature importances"
      ],
      "metadata": {
        "id": "UznCBD-ZqCdx"
      }
    },
    {
      "cell_type": "code",
      "source": [
        "from sklearn.datasets import load_iris\n",
        "from sklearn.tree import DecisionTreeClassifier\n",
        "from sklearn.model_selection import train_test_split\n",
        "from sklearn.metrics import accuracy_score\n",
        "\n",
        "# Load the Iris dataset\n",
        "iris = load_iris()\n",
        "X = iris.data\n",
        "y = iris.target\n",
        "\n",
        "# Split the dataset into training and testing sets\n",
        "X_train, X_test, y_train, y_test = train_test_split(X, y, test_size=0.3, random_state=42)\n",
        "\n",
        "# Train a Decision Tree Classifier using the Gini criterion\n",
        "clf = DecisionTreeClassifier(criterion='gini', random_state=42)\n",
        "clf.fit(X_train, y_train)\n",
        "\n",
        "# Make predictions on the test set\n",
        "y_pred = clf.predict(X_test)\n",
        "\n",
        "# Print the model's accuracy\n",
        "accuracy = accuracy_score(y_test, y_pred)\n",
        "print(f\"Model Accuracy: {accuracy:.2f}\")\n",
        "\n",
        "# Print the feature importances\n",
        "print(\"Feature Importances:\")\n",
        "for i, importance in enumerate(clf.feature_importances_):\n",
        "    print(f\"Feature {i+1} ({iris.feature_names[i]}): {importance:.4f}\")"
      ],
      "metadata": {
        "colab": {
          "base_uri": "https://localhost:8080/"
        },
        "id": "LyeELbU6qMJD",
        "outputId": "002ca9af-ee7d-4e7c-a610-a77754b6acef"
      },
      "execution_count": 1,
      "outputs": [
        {
          "output_type": "stream",
          "name": "stdout",
          "text": [
            "Model Accuracy: 1.00\n",
            "Feature Importances:\n",
            "Feature 1 (sepal length (cm)): 0.0000\n",
            "Feature 2 (sepal width (cm)): 0.0191\n",
            "Feature 3 (petal length (cm)): 0.8933\n",
            "Feature 4 (petal width (cm)): 0.0876\n"
          ]
        }
      ]
    },
    {
      "cell_type": "markdown",
      "source": [
        "Question 7: Write a Python program to:\n",
        "● Load the Iris Dataset\n",
        "● Train a Decision Tree Classifier with max_depth=3 and compare its accuracy to\n",
        "a fully-grown tree."
      ],
      "metadata": {
        "id": "j5dxGETYqYdp"
      }
    },
    {
      "cell_type": "code",
      "source": [
        "from sklearn.datasets import load_iris\n",
        "from sklearn.tree import DecisionTreeClassifier\n",
        "from sklearn.model_selection import train_test_split\n",
        "from sklearn.metrics import accuracy_score\n",
        "\n",
        "# Load the Iris dataset\n",
        "iris = load_iris()\n",
        "X = iris.data\n",
        "y = iris.target\n",
        "\n",
        "# Split the dataset into training and testing sets\n",
        "X_train, X_test, y_train, y_test = train_test_split(X, y, test_size=0.3, random_state=42)\n",
        "\n",
        "# Train a Decision Tree Classifier with max_depth=3\n",
        "clf_pruned = DecisionTreeClassifier(max_depth=3, random_state=42)\n",
        "clf_pruned.fit(X_train, y_train)\n",
        "\n",
        "# Train a fully-grown Decision Tree Classifier\n",
        "clf_full = DecisionTreeClassifier(random_state=42)\n",
        "clf_full.fit(X_train, y_train)\n",
        "\n",
        "# Make predictions on the test set for both models\n",
        "y_pred_pruned = clf_pruned.predict(X_test)\n",
        "y_pred_full = clf_full.predict(X_test) # Corrected y_test to X_test\n",
        "\n",
        "\n",
        "# Print the models' accuracies\n",
        "accuracy_pruned = accuracy_score(y_test, y_pred_pruned)\n",
        "accuracy_full = accuracy_score(y_test, y_pred_full)\n",
        "\n",
        "print(f\"Accuracy of Decision Tree with max_depth=3: {accuracy_pruned:.2f}\")\n",
        "print(f\"Accuracy of fully-grown Decision Tree: {accuracy_full:.2f}\")"
      ],
      "metadata": {
        "colab": {
          "base_uri": "https://localhost:8080/"
        },
        "id": "AH6Tg1Nvqd4i",
        "outputId": "039b5418-f452-4f9b-ce02-6cd8610bdad6"
      },
      "execution_count": 3,
      "outputs": [
        {
          "output_type": "stream",
          "name": "stdout",
          "text": [
            "Accuracy of Decision Tree with max_depth=3: 1.00\n",
            "Accuracy of fully-grown Decision Tree: 1.00\n"
          ]
        }
      ]
    },
    {
      "cell_type": "markdown",
      "source": [
        "Question 8: Write a Python program to:\n",
        "● Load the California Housing dataset from sklearn\n",
        "● Train a Decision Tree Regressor\n",
        "● Print the Mean Squared Error (MSE) and feature importances"
      ],
      "metadata": {
        "id": "Wi3wGyK5qnjn"
      }
    },
    {
      "cell_type": "code",
      "source": [
        "from sklearn.datasets import fetch_california_housing\n",
        "from sklearn.tree import DecisionTreeRegressor\n",
        "from sklearn.model_selection import train_test_split\n",
        "from sklearn.metrics import mean_squared_error\n",
        "\n",
        "# Load the California Housing dataset\n",
        "housing = fetch_california_housing()\n",
        "X = housing.data\n",
        "y = housing.target\n",
        "\n",
        "# Split the dataset into training and testing sets\n",
        "X_train, X_test, y_train, y_test = train_test_split(X, y, test_size=0.3, random_state=42)\n",
        "\n",
        "# Train a Decision Tree Regressor\n",
        "regressor = DecisionTreeRegressor(random_state=42)\n",
        "regressor.fit(X_train, y_train)\n",
        "\n",
        "# Make predictions on the test set\n",
        "y_pred = regressor.predict(X_test)\n",
        "\n",
        "# Print the Mean Squared Error (MSE)\n",
        "mse = mean_squared_error(y_test, y_pred)\n",
        "print(f\"Mean Squared Error (MSE): {mse:.2f}\")\n",
        "\n",
        "# Print the feature importances\n",
        "print(\"Feature Importances:\")\n",
        "for i, importance in enumerate(regressor.feature_importances_):\n",
        "    print(f\"Feature {i+1} ({housing.feature_names[i]}): {importance:.4f}\")"
      ],
      "metadata": {
        "colab": {
          "base_uri": "https://localhost:8080/"
        },
        "id": "AotZlDFUqvdV",
        "outputId": "9fd701ea-d7b4-4812-bc02-30b1b851e074"
      },
      "execution_count": 4,
      "outputs": [
        {
          "output_type": "stream",
          "name": "stdout",
          "text": [
            "Mean Squared Error (MSE): 0.53\n",
            "Feature Importances:\n",
            "Feature 1 (MedInc): 0.5235\n",
            "Feature 2 (HouseAge): 0.0521\n",
            "Feature 3 (AveRooms): 0.0494\n",
            "Feature 4 (AveBedrms): 0.0250\n",
            "Feature 5 (Population): 0.0322\n",
            "Feature 6 (AveOccup): 0.1390\n",
            "Feature 7 (Latitude): 0.0900\n",
            "Feature 8 (Longitude): 0.0888\n"
          ]
        }
      ]
    },
    {
      "cell_type": "markdown",
      "source": [
        "Question 9: Write a Python program to:\n",
        "● Load the Iris Dataset\n",
        "● Tune the Decision Tree’s max_depth and min_samples_split using\n",
        "GridSearchCV\n",
        "● Print the best parameters and the resulting model accuracy"
      ],
      "metadata": {
        "id": "UBL56Rh6rEnt"
      }
    },
    {
      "cell_type": "code",
      "source": [
        "from sklearn.datasets import load_iris\n",
        "from sklearn.tree import DecisionTreeClassifier\n",
        "from sklearn.model_selection import train_test_split, GridSearchCV\n",
        "from sklearn.metrics import accuracy_score\n",
        "\n",
        "# Load the Iris dataset\n",
        "iris = load_iris()\n",
        "X = iris.data\n",
        "y = iris.target\n",
        "\n",
        "# Split the dataset into training and testing sets\n",
        "X_train, X_test, y_train, y_test = train_test_split(X, y, test_size=0.3, random_state=42)\n",
        "\n",
        "# Define the parameter grid\n",
        "param_grid = {\n",
        "    'max_depth': [None, 3, 5, 10],\n",
        "    'min_samples_split': [2, 5, 10]\n",
        "}\n",
        "\n",
        "# Create a Decision Tree Classifier\n",
        "clf = DecisionTreeClassifier(random_state=42)\n",
        "\n",
        "# Perform GridSearchCV\n",
        "grid_search = GridSearchCV(clf, param_grid, cv=5, scoring='accuracy')\n",
        "grid_search.fit(X_train, y_train)\n",
        "\n",
        "# Print the best parameters and the resulting model accuracy\n",
        "best_params = grid_search.best_params_\n",
        "best_score = grid_search.best_score_\n",
        "\n",
        "print(f\"Best Parameters: {best_params}\")\n",
        "print(f\"Best Cross-Validation Accuracy: {best_score:.2f}\")\n",
        "\n",
        "# Evaluate the best model on the test set\n",
        "best_clf = grid_search.best_estimator_\n",
        "y_pred = best_clf.predict(X_test)\n",
        "test_accuracy = accuracy_score(y_test, y_pred)\n",
        "print(f\"Test Set Accuracy with Best Parameters: {test_accuracy:.2f}\")"
      ],
      "metadata": {
        "colab": {
          "base_uri": "https://localhost:8080/"
        },
        "id": "juXTsKm_rGIn",
        "outputId": "7dde0cac-cbe7-42cb-8ea6-ccf12f89e342"
      },
      "execution_count": 5,
      "outputs": [
        {
          "output_type": "stream",
          "name": "stdout",
          "text": [
            "Best Parameters: {'max_depth': None, 'min_samples_split': 10}\n",
            "Best Cross-Validation Accuracy: 0.94\n",
            "Test Set Accuracy with Best Parameters: 1.00\n"
          ]
        }
      ]
    },
    {
      "cell_type": "markdown",
      "metadata": {
        "id": "c4034360"
      },
      "source": [
        "Question 10: Imagine you’re working as a data scientist for a healthcare company that\n",
        "wants to predict whether a patient has a certain disease. You have a large dataset with\n",
        "mixed data types and some missing values.\n",
        "Explain the step-by-step process you would follow to:\n",
        "● Handle the missing values\n",
        "● Encode the categorical features\n",
        "● Train a Decision Tree model\n",
        "● Tune its hyperparameters\n",
        "● Evaluate its performance\n",
        "And describe what business value this model could provide in the real-world\n",
        "setting.\n",
        "\n",
        "--> Here's a step-by-step process for building and evaluating a Decision Tree model for predicting a disease in a healthcare setting, along with the potential business value:\n",
        "\n",
        "**Step 1: Data Understanding and Loading**\n",
        "\n",
        "*   **Action:** Load the dataset into a pandas DataFrame. Examine the data types, identify numerical and categorical features, and understand the target variable (disease presence).\n",
        "*   **Explanation:** This initial step is crucial for understanding the structure and content of the data, which will inform subsequent preprocessing steps.\n",
        "\n",
        "**Step 2: Handling Missing Values**\n",
        "\n",
        "*   **Action:** Identify columns with missing values. Choose an appropriate imputation strategy based on the data and the feature type.\n",
        "    *   For numerical features, consider imputation with the mean, median, or mode, or using more advanced techniques like k-nearest neighbors (KNN) imputation.\n",
        "    *   For categorical features, consider imputation with the mode or a placeholder like 'Unknown'.\n",
        "*   **Explanation:** Missing data can cause errors or bias in the model. Imputation allows us to retain as much data as possible. The choice of imputation method depends on the distribution of the data and the nature of the missingness.\n",
        "\n",
        "**Step 3: Encoding Categorical Features**\n",
        "\n",
        "*   **Action:** Identify categorical features and apply appropriate encoding techniques.\n",
        "    *   **One-Hot Encoding:** For nominal categorical features (no inherent order), create new binary columns for each category.\n",
        "    *   **Ordinal Encoding:** For ordinal categorical features (with an inherent order), map each category to an integer value.\n",
        "*   **Explanation:** Decision Trees, like many machine learning algorithms, require numerical input. Encoding converts categorical features into a numerical format that the model can understand.\n",
        "\n",
        "**Step 4: Data Splitting**\n",
        "\n",
        "*   **Action:** Split the dataset into training, validation, and testing sets. A common split is 70% for training, 15% for validation, and 15% for testing. Ensure the split is stratified if the target variable is imbalanced to maintain the class distribution in each set.\n",
        "*   **Explanation:** Splitting the data is essential for evaluating the model's performance on unseen data and preventing overfitting. The validation set is used during hyperparameter tuning, and the test set is used for the final evaluation of the best model.\n",
        "\n",
        "**Step 5: Training a Decision Tree Model**\n",
        "\n",
        "*   **Action:** Initialize a Decision Tree Classifier model. Train the model on the training data (`X_train`, `y_train`).\n",
        "*   **Explanation:** This is where the decision tree algorithm learns the patterns and relationships in the data to make predictions.\n",
        "\n",
        "**Step 6: Hyperparameter Tuning**\n",
        "\n",
        "*   **Action:** Use techniques like GridSearchCV or RandomizedSearchCV to find the optimal hyperparameters for the Decision Tree model (e.g., `max_depth`, `min_samples_split`, `min_samples_leaf`). Define a parameter grid or distribution to search over and a scoring metric (e.g., accuracy, precision, recall, F1-score, AUC, depending on the business problem and class imbalance). Train and evaluate the model with different hyperparameter combinations on the validation set.\n",
        "*   **Explanation:** Hyperparameter tuning helps to optimize the model's performance and prevent overfitting by finding the best configuration for the specific dataset.\n",
        "\n",
        "**Step 7: Model Evaluation**\n",
        "\n",
        "*   **Action:** Evaluate the best performing model (identified during hyperparameter tuning) on the unseen test set (`X_test`, `y_test`). Calculate relevant evaluation metrics (e.g., accuracy, precision, recall, F1-score, AUC, confusion matrix).\n",
        "*   **Explanation:** Evaluating the model on the test set provides an unbiased estimate of its performance on new, real-world data. The choice of evaluation metrics should align with the business objectives. For disease prediction, recall (sensitivity) is often crucial to minimize false negatives.\n",
        "\n",
        "**Step 8: Interpretation and Business Value**\n",
        "\n",
        "*   **Action:** Interpret the Decision Tree model (e.g., visualize the tree, examine feature importances) to understand which factors are most influential in predicting the disease.\n",
        "*   **Business Value:**\n",
        "    *   **Early Detection and Intervention:** The model can help identify patients at high risk of developing the disease, enabling earlier diagnosis and intervention, which can lead to better health outcomes and potentially lower treatment costs.\n",
        "    *   **Targeted Screening:** The model can help healthcare providers prioritize patients for screening based on their risk factors, making screening programs more efficient and cost-effective.\n",
        "    *   **Personalized Treatment Plans:** Understanding the factors that contribute to the disease can help tailor treatment plans to individual patients.\n",
        "    *   **Resource Allocation:** The model's predictions can inform decisions about allocating healthcare resources, such as staffing or equipment, to areas or patient populations with a higher predicted incidence of the disease.\n",
        "    *   **Reduced Healthcare Costs:** Early detection and intervention can prevent the progression of the disease to more severe and costly stages.\n",
        "    *   **Improved Patient Outcomes:** Ultimately, the model can contribute to improved patient health and quality of life by facilitating timely and effective care.\n",
        "\n",
        "By following these steps, a data scientist can build a robust Decision Tree model for disease prediction that provides significant business value to a healthcare company."
      ]
    }
  ]
}